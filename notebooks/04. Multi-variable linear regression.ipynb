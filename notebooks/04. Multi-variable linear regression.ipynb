{
 "cells": [
  {
   "cell_type": "code",
   "execution_count": 26,
   "metadata": {
    "collapsed": false
   },
   "outputs": [
    {
     "name": "stdout",
     "output_type": "stream",
     "text": [
      "0 3.70433 [ 1.61169219] [ 0.92843682] [ 0.43232584]\n",
      "20 0.00327002 [ 0.96436512] [ 0.95771867] [ 0.1355629]\n",
      "40 0.000946805 [ 0.98082483] [ 0.97724879] [ 0.07294504]\n",
      "60 0.000274142 [ 0.98968202] [ 0.9877578] [ 0.039251]\n",
      "80 7.93756e-05 [ 0.99444795] [ 0.99341255] [ 0.02112058]\n",
      "100 2.29822e-05 [ 0.99701244] [ 0.99645537] [ 0.01136482]\n",
      "120 6.65425e-06 [ 0.99839246] [ 0.99809265] [ 0.00611532]\n",
      "140 1.9266e-06 [ 0.99913502] [ 0.99897367] [ 0.00329059]\n",
      "160 5.57928e-07 [ 0.99953461] [ 0.99944776] [ 0.00177068]\n",
      "180 1.61525e-07 [ 0.99974954] [ 0.99970281] [ 0.00095281]\n",
      "200 4.67671e-08 [ 0.99986529] [ 0.99984008] [ 0.00051267]\n"
     ]
    }
   ],
   "source": [
    "import tensorflow as tf\n",
    "\n",
    "x1_data = [1, 0, 3, 0, 5]\n",
    "x2_data = [0, 2, 0, 4, 0]\n",
    "y_data = [1, 2, 3, 4, 5]\n",
    "\n",
    "W1 = tf.Variable(tf.random_uniform([1], -1.0, 1.0))\n",
    "W2 = tf.Variable(tf.random_uniform([1], -1.0, 1.0))\n",
    "\n",
    "b = tf.Variable(tf.random_uniform([1], -1.0, 1.0))\n",
    "\n",
    "# H(x1, x2) = w1x1 + w2x2 + b\n",
    "hypothesis = W1 * x1_data + W2 * x2_data + b\n",
    "\n",
    "# Simplifed cost function\n",
    "cost = tf.reduce_mean(tf.square(hypothesis - y_data))\n",
    "\n",
    "# Minimize\n",
    "a = tf.Variable(0.1) # Learning rate, alpha\n",
    "optimizer = tf.train.GradientDescentOptimizer(a)\n",
    "train = optimizer.minimize(cost)\n",
    "\n",
    "init = tf.initialize_all_variables()\n",
    "\n",
    "sess = tf.Session()\n",
    "sess.run(init)\n",
    "\n",
    "for step in xrange(201):\n",
    "    sess.run(train)\n",
    "    if step % 20 == 0:\n",
    "        print step, sess.run(cost), sess.run(W1), sess.run(W2), sess.run(b)\n"
   ]
  },
  {
   "cell_type": "code",
   "execution_count": 29,
   "metadata": {
    "collapsed": false
   },
   "outputs": [
    {
     "name": "stdout",
     "output_type": "stream",
     "text": [
      "0 0.541677 [[ 0.89458293  0.48148835]] [ 1.0304997]\n",
      "200 8.06089e-07 [[ 0.99944049  0.99933618]] [ 0.00212837]\n",
      "400 3.5044e-12 [[ 0.99999887  0.99999863]] [  4.32549177e-06]\n",
      "600 4.83169e-14 [[ 0.99999994  0.99999994]] [  1.62703827e-07]\n",
      "800 4.83169e-14 [[ 0.99999994  0.99999994]] [  1.62703827e-07]\n",
      "1000 4.83169e-14 [[ 0.99999994  0.99999994]] [  1.62703827e-07]\n",
      "1200 4.83169e-14 [[ 0.99999994  0.99999994]] [  1.62703827e-07]\n",
      "1400 4.83169e-14 [[ 0.99999994  0.99999994]] [  1.62703827e-07]\n",
      "1600 4.83169e-14 [[ 0.99999994  0.99999994]] [  1.62703827e-07]\n",
      "1800 4.83169e-14 [[ 0.99999994  0.99999994]] [  1.62703827e-07]\n",
      "2000 4.83169e-14 [[ 0.99999994  0.99999994]] [  1.62703827e-07]\n"
     ]
    }
   ],
   "source": [
    "# Multi-variable linear regression using matrix\n",
    "\n",
    "import tensorflow as tf\n",
    "\n",
    "x_data = [\n",
    "    [1.0, 0.0, 3.0, 0.0, 5.0],\n",
    "    [0.0, 2.0, 0.0, 4.0, 0.0]\n",
    "] # 2x1 matrix\n",
    "y_data = [1, 2, 3, 4, 5] # 1x1 matrix\n",
    "\n",
    "# W => 1x2 matrix\n",
    "W = tf.Variable(tf.random_uniform([1, 2], -1.0, 1.0))\n",
    "\n",
    "b = tf.Variable(tf.random_uniform([1], -1.0, 1.0))\n",
    "\n",
    "# H(X) = WX + b\n",
    "# Use `matmul` for matrix multiplication\n",
    "hypothesis = tf.matmul(W, x_data) + b\n",
    "\n",
    "# Simplifed cost function\n",
    "cost = tf.reduce_mean(tf.square(hypothesis - y_data))\n",
    "\n",
    "# Minimize\n",
    "a = tf.Variable(0.1) # Learning rate, alpha\n",
    "optimizer = tf.train.GradientDescentOptimizer(a)\n",
    "train = optimizer.minimize(cost)\n",
    "\n",
    "init = tf.initialize_all_variables()\n",
    "\n",
    "sess = tf.Session()\n",
    "sess.run(init)\n",
    "\n",
    "for step in xrange(2001):\n",
    "    sess.run(train)\n",
    "    if step % 200 == 0:\n",
    "        print step, sess.run(cost), sess.run(W), sess.run(b)\n",
    "\n"
   ]
  },
  {
   "cell_type": "code",
   "execution_count": 28,
   "metadata": {
    "collapsed": false,
    "scrolled": true
   },
   "outputs": [
    {
     "name": "stdout",
     "output_type": "stream",
     "text": [
      "0 0.476974 [[-0.28377742  1.30448747  0.93722177]]\n",
      "200 6.4166e-08 [[ -6.00662839e-04   1.00015783e+00   1.00018728e+00]]\n",
      "400 2.8777e-13 [[ -1.25945917e-06   1.00000036e+00   1.00000048e+00]]\n",
      "600 2.06057e-14 [[ -2.98632472e-07   1.00000012e+00   1.00000012e+00]]\n",
      "800 2.06057e-14 [[ -2.98632472e-07   1.00000012e+00   1.00000012e+00]]\n",
      "1000 2.06057e-14 [[ -2.98632472e-07   1.00000012e+00   1.00000012e+00]]\n",
      "1200 2.06057e-14 [[ -2.98632472e-07   1.00000012e+00   1.00000012e+00]]\n",
      "1400 2.06057e-14 [[ -2.98632472e-07   1.00000012e+00   1.00000012e+00]]\n",
      "1600 2.06057e-14 [[ -2.98632472e-07   1.00000012e+00   1.00000012e+00]]\n",
      "1800 2.06057e-14 [[ -2.98632472e-07   1.00000012e+00   1.00000012e+00]]\n",
      "2000 2.06057e-14 [[ -2.98632472e-07   1.00000012e+00   1.00000012e+00]]\n"
     ]
    }
   ],
   "source": [
    "# Have bias variable gone into matrix\n",
    "# H(X) = WX\n",
    "\n",
    "import tensorflow as tf\n",
    "\n",
    "\n",
    "# Multi-variable linear regression using matrix\n",
    "\n",
    "import tensorflow as tf\n",
    "\n",
    "x_data = [\n",
    "    [1, 1, 1, 1, 1], # Bias\n",
    "    [1.0, 0.0, 3.0, 0.0, 5.0],\n",
    "    [0.0, 2.0, 0.0, 4.0, 0.0]\n",
    "] # 3x1 matrix\n",
    "y_data = [1, 2, 3, 4, 5] # 1x1 matrix\n",
    "\n",
    "# W => 1x3 matrix\n",
    "W = tf.Variable(tf.random_uniform([1, 3], -1.0, 1.0))\n",
    "\n",
    "# H(X) = WX\n",
    "# Use `matmul` for matrix multiplication\n",
    "hypothesis = tf.matmul(W, x_data)\n",
    "\n",
    "# Simplifed cost function\n",
    "cost = tf.reduce_mean(tf.square(hypothesis - y_data))\n",
    "\n",
    "# Minimize\n",
    "a = tf.Variable(0.1) # Learning rate, alpha\n",
    "optimizer = tf.train.GradientDescentOptimizer(a)\n",
    "train = optimizer.minimize(cost)\n",
    "\n",
    "init = tf.initialize_all_variables()\n",
    "\n",
    "sess = tf.Session()\n",
    "sess.run(init)\n",
    "\n",
    "for step in xrange(2001):\n",
    "    sess.run(train)\n",
    "    if step % 200 == 0:\n",
    "        print step, sess.run(cost), sess.run(W)\n",
    "\n"
   ]
  },
  {
   "cell_type": "raw",
   "metadata": {
    "collapsed": true
   },
   "source": []
  }
 ],
 "metadata": {
  "kernelspec": {
   "display_name": "Python 2",
   "language": "python",
   "name": "python2"
  },
  "language_info": {
   "codemirror_mode": {
    "name": "ipython",
    "version": 2
   },
   "file_extension": ".py",
   "mimetype": "text/x-python",
   "name": "python",
   "nbconvert_exporter": "python",
   "pygments_lexer": "ipython2",
   "version": "2.7.6"
  }
 },
 "nbformat": 4,
 "nbformat_minor": 0
}
