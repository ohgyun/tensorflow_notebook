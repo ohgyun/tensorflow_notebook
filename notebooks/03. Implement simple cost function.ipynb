{
 "cells": [
  {
   "cell_type": "code",
   "execution_count": 14,
   "metadata": {
    "collapsed": false
   },
   "outputs": [
    {
     "data": {
      "image/png": "[encoded data removed]",
      "text/plain": [
       "<matplotlib.figure.Figure at 0x7fd3b82c29d0>"
      ]
     },
     "metadata": {},
     "output_type": "display_data"
    }
   ],
   "source": [
    "%matplotlib inline\n",
    "\n",
    "import tensorflow as tf\n",
    "import matplotlib.pyplot as plt\n",
    "\n",
    "# tf graph input\n",
    "X = [1.0, 2.0, 3.0]\n",
    "Y = [1.0, 2.0, 3.0]\n",
    "m = len(X) # Total count of samples\n",
    "\n",
    "# Set model weights\n",
    "W = tf.placeholder(tf.float32)\n",
    "\n",
    "# Construt a linear model\n",
    "# For simplicity, skip bias variable\n",
    "hypothesis = tf.mul(X, W)\n",
    "\n",
    "# Cost function\n",
    "# cost(W) = 1/m * sum((Wi - Yi)^2)\n",
    "cost = tf.reduce_sum(tf.pow(hypothesis - Y, 2)) / m\n",
    "\n",
    "init = tf.initialize_all_variables()\n",
    "\n",
    "# For drawing graphs\n",
    "W_val = []\n",
    "cost_val = []\n",
    "\n",
    "# Launch the graph\n",
    "sess = tf.Session()\n",
    "sess.run(init)\n",
    "\n",
    "for i in range(-30, 50):\n",
    "    W_val.append(i*0.1)\n",
    "    cost_val.append(sess.run(cost, feed_dict={W: i*0.1}))\n",
    "\n",
    "# Graphic display\n",
    "plt.plot(W_val, cost_val, 'ro')\n",
    "plt.ylabel('Cost')\n",
    "plt.xlabel('W')\n",
    "plt.show()"
   ]
  },
  {
   "cell_type": "code",
   "execution_count": 20,
   "metadata": {
    "collapsed": false
   },
   "outputs": [
    {
     "name": "stdout",
     "output_type": "stream",
     "text": [
      "0 [ 5.31158257]\n",
      "1 [ 3.29951048]\n",
      "2 [ 2.22640562]\n",
      "3 [ 1.65408301]\n",
      "4 [ 1.34884429]\n",
      "5 [ 1.1860503]\n",
      "6 [ 1.09922683]\n",
      "7 [ 1.05292094]\n",
      "8 [ 1.02822447]\n",
      "9 [ 1.01505303]\n",
      "10 [ 1.00802827]\n",
      "11 [ 1.00428176]\n",
      "12 [ 1.00228357]\n",
      "13 [ 1.00121796]\n",
      "14 [ 1.00064957]\n",
      "15 [ 1.00034642]\n",
      "16 [ 1.00018477]\n",
      "17 [ 1.00009859]\n",
      "18 [ 1.00005257]\n",
      "19 [ 1.00002801]\n",
      "20 [ 1.0000149]\n"
     ]
    }
   ],
   "source": [
    "# Implement gradient descent function\n",
    "\n",
    "%matplotlib inline\n",
    "\n",
    "import tensorflow as tf\n",
    "import matplotlib.pyplot as plt\n",
    "\n",
    "# tf graph input\n",
    "X = [1.0, 2.0, 3.0]\n",
    "Y = [1.0, 2.0, 3.0]\n",
    "m = len(X) # Total count of samples\n",
    "\n",
    "# Set model weights\n",
    "W = tf.Variable(tf.random_uniform([1], -10.0, 10.0))\n",
    "\n",
    "# Construt a linear model\n",
    "# For simplicity, skip bias variable\n",
    "hypothesis = tf.mul(X, W)\n",
    "\n",
    "# Minimize\n",
    "descent = W - tf.mul(0.1, tf.reduce_mean(tf.mul((tf.mul(W, X) - Y), X)))\n",
    "update = W.assign(descent)\n",
    "\n",
    "\n",
    "init = tf.initialize_all_variables()\n",
    "\n",
    "# For drawing graphs\n",
    "W_val = []\n",
    "cost_val = []\n",
    "\n",
    "# Launch the graph\n",
    "sess = tf.Session()\n",
    "sess.run(init)\n",
    "\n",
    "for step in xrange(21):\n",
    "    sess.run(update)\n",
    "    print step, sess.run(W)\n"
   ]
  },
  {
   "cell_type": "code",
   "execution_count": null,
   "metadata": {
    "collapsed": true
   },
   "outputs": [],
   "source": []
  }
 ],
 "metadata": {
  "kernelspec": {
   "display_name": "Python 2",
   "language": "python",
   "name": "python2"
  },
  "language_info": {
   "codemirror_mode": {
    "name": "ipython",
    "version": 2
   },
   "file_extension": ".py",
   "mimetype": "text/x-python",
   "name": "python",
   "nbconvert_exporter": "python",
   "pygments_lexer": "ipython2",
   "version": "2.7.6"
  }
 },
 "nbformat": 4,
 "nbformat_minor": 0
}
