{
 "cells": [
  {
   "cell_type": "code",
   "execution_count": 3,
   "metadata": {
    "collapsed": false
   },
   "outputs": [
    {
     "name": "stdout",
     "output_type": "stream",
     "text": [
      "0 0.0640389 [ 1.12574255] [-0.02018851]\n",
      "20 0.000216913 [ 1.01710558] [-0.03888499]\n",
      "40 8.19561e-05 [ 1.0105145] [-0.02390174]\n",
      "60 3.09655e-05 [ 1.00646305] [-0.01469188]\n",
      "80 1.16996e-05 [ 1.00397265] [-0.00903075]\n",
      "100 4.42039e-06 [ 1.00244188] [-0.00555095]\n",
      "120 1.67001e-06 [ 1.00150096] [-0.00341202]\n",
      "140 6.30934e-07 [ 1.00092256] [-0.00209721]\n",
      "160 2.38406e-07 [ 1.00056708] [-0.0012891]\n",
      "180 9.00745e-08 [ 1.00034857] [-0.00079235]\n",
      "200 3.403e-08 [ 1.00021422] [-0.00048702]\n"
     ]
    }
   ],
   "source": [
    "import tensorflow as tf\n",
    "\n",
    "# Hypothesis: H(x) = Wx + b\n",
    "# Goal = minimize cost(W, b)\n",
    "\n",
    "x_data = [1, 2, 3]\n",
    "y_data = [1, 2, 3]\n",
    "\n",
    "# Try to find values for W and b that compute y_data = W * x_data + b\n",
    "# (We know that W should be 1 and b 0, but Tensorflow will figure that out for us)\n",
    "W = tf.Variable(tf.random_uniform([1], -1.0, 1.0))\n",
    "b = tf.Variable(tf.random_uniform([1], -1.0, 1.0))\n",
    "\n",
    "# Our hypothesis\n",
    "hypothesis = W * x_data + b\n",
    "\n",
    "# Simplifed cost function\n",
    "cost = tf.reduce_mean(tf.square(hypothesis - y_data))\n",
    "\n",
    "# Minimize cost function\n",
    "a = tf.Variable(0.1) # Learning rate, alpha\n",
    "optimizer = tf.train.GradientDescentOptimizer(a)\n",
    "train = optimizer.minimize(cost)\n",
    "\n",
    "# Before starting, initialize the variables\n",
    "init = tf.initialize_all_variables()\n",
    "\n",
    "sess = tf.Session()\n",
    "sess.run(init)\n",
    "\n",
    "for step in xrange(201):\n",
    "    sess.run(train)\n",
    "    if step % 20 == 0:\n",
    "        print step, sess.run(cost), sess.run(W), sess.run(b)\n",
    "    "
   ]
  },
  {
   "cell_type": "code",
   "execution_count": 8,
   "metadata": {
    "collapsed": false
   },
   "outputs": [
    {
     "name": "stdout",
     "output_type": "stream",
     "text": [
      "0 0.118583 [ 0.78843379] [ 0.72102916]\n",
      "20 0.025218 [ 0.81556165] [ 0.41927174]\n",
      "40 0.00952804 [ 0.88663012] [ 0.25771645]\n",
      "60 0.00359995 [ 0.93031418] [ 0.15841219]\n",
      "80 0.00136015 [ 0.95716584] [ 0.09737223]\n",
      "100 0.000513906 [ 0.97367078] [ 0.05985239]\n",
      "120 0.000194167 [ 0.98381609] [ 0.03678985]\n",
      "140 7.33627e-05 [ 0.9900521] [ 0.02261385]\n",
      "160 2.77182e-05 [ 0.99388528] [ 0.01390022]\n",
      "180 1.04726e-05 [ 0.99624145] [ 0.00854412]\n",
      "200 3.95683e-06 [ 0.99768972] [ 0.00525186]\n",
      "---\n",
      "[ 4.9937005]\n",
      "[ 2.49947619]\n"
     ]
    }
   ],
   "source": [
    "# Pass training data set via placeholder and\n",
    "# try to get estimate value using hypothesis\n",
    "\n",
    "import tensorflow as tf\n",
    "\n",
    "x_data = [1.0, 2.0, 3.0]\n",
    "y_data = [1.0, 2.0, 3.0]\n",
    "\n",
    "# Try to find values for W and b that compute y_data = W * x_data + b\n",
    "# (We know that W should be 1 and b 0, but Tensorflow will figure that out for us)\n",
    "W = tf.Variable(tf.random_uniform([1], -1.0, 1.0))\n",
    "b = tf.Variable(tf.random_uniform([1], -1.0, 1.0))\n",
    "\n",
    "# Define placeholder\n",
    "X = tf.placeholder(tf.float32)\n",
    "Y = tf.placeholder(tf.float32)\n",
    "\n",
    "# Our hypothesis\n",
    "hypothesis = W * X + b\n",
    "\n",
    "# Simplifed cost function\n",
    "cost = tf.reduce_mean(tf.square(hypothesis - Y))\n",
    "\n",
    "# Minimize cost function\n",
    "a = tf.Variable(0.1) # Learning rate, alpha\n",
    "optimizer = tf.train.GradientDescentOptimizer(a)\n",
    "train = optimizer.minimize(cost)\n",
    "\n",
    "# Before starting, initialize the variables\n",
    "init = tf.initialize_all_variables()\n",
    "\n",
    "sess = tf.Session()\n",
    "sess.run(init)\n",
    "\n",
    "for step in xrange(201):\n",
    "    sess.run(train, feed_dict={X: x_data, Y: y_data})\n",
    "    if step % 20 == 0:\n",
    "        print step, sess.run(cost, feed_dict={X: x_data, Y: y_data}), sess.run(W), sess.run(b)\n",
    "\n",
    "print '---'\n",
    "\n",
    "# Estimate Y using trained model with new variable\n",
    "print sess.run(hypothesis, feed_dict={X: 5})\n",
    "print sess.run(hypothesis, feed_dict={X: 2.5})\n"
   ]
  },
  {
   "cell_type": "code",
   "execution_count": null,
   "metadata": {
    "collapsed": true
   },
   "outputs": [],
   "source": []
  }
 ],
 "metadata": {
  "kernelspec": {
   "display_name": "Python 2",
   "language": "python",
   "name": "python2"
  },
  "language_info": {
   "codemirror_mode": {
    "name": "ipython",
    "version": 2
   },
   "file_extension": ".py",
   "mimetype": "text/x-python",
   "name": "python",
   "nbconvert_exporter": "python",
   "pygments_lexer": "ipython2",
   "version": "2.7.6"
  }
 },
 "nbformat": 4,
 "nbformat_minor": 0
}
